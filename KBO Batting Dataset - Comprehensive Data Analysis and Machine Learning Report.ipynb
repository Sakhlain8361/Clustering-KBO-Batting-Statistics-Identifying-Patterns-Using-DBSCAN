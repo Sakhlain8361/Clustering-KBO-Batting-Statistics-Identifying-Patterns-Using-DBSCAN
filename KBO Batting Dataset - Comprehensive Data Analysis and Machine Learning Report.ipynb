{
 "cells": [
  {
   "cell_type": "markdown",
   "id": "20d581dc-3ab7-4998-ac56-72f700d990af",
   "metadata": {},
   "source": [
    "## KBO Batting Dataset - Data Analysis and Model Building Report"
   ]
  },
  {
   "cell_type": "markdown",
   "id": "0124602f-0886-49ad-a3b8-103ac2dffb39",
   "metadata": {},
   "source": [
    "## 1. Introduction "
   ]
  },
  {
   "cell_type": "markdown",
   "id": "32205cc0-d067-42d2-9c0c-4e84f6244ea6",
   "metadata": {},
   "source": [
    "The purpose of this report is to analyze the KBO (Korean Baseball Organization) Batting dataset and build a machine learning model using DBSCAN clustering. The report covers dataset exploration, preprocessing, missing value handling, model building, evaluation, and conclusions."
   ]
  },
  {
   "cell_type": "markdown",
   "id": "51c090b4-1389-48cb-b924-60c0490c4169",
   "metadata": {},
   "source": [
    "## 2. Libraries Used"
   ]
  },
  {
   "cell_type": "markdown",
   "id": "7a35301c-e32f-422c-bbfe-28d8ad19477a",
   "metadata": {},
   "source": [
    "The following Python libraries were used in this project:\n",
    "\n",
    "- **Pandas**: For data manipulation and analysis\n",
    "\n",
    "- **NumPy**: For numerical computations\n",
    "\n",
    "- **Matplotlib & Seaborn**: For data visualization\n",
    "\n",
    "- **Scikit-learn**: For machine learning and clustering (DBSCAN)"
   ]
  },
  {
   "cell_type": "code",
   "execution_count": 14,
   "id": "527805c4-1bb4-4d2b-be51-d126a3217874",
   "metadata": {},
   "outputs": [],
   "source": [
    "import pandas as pd\n",
    "import numpy as np\n",
    "import matplotlib.pyplot as plt\n",
    "import seaborn as sns\n",
    "from sklearn.cluster import DBSCAN\n",
    "from sklearn.preprocessing import StandardScaler"
   ]
  },
  {
   "cell_type": "markdown",
   "id": "03e6a7d0-cd9f-4fa9-b4de-95ce0a4bf2e6",
   "metadata": {},
   "source": [
    "## 3. Dataset Overview"
   ]
  },
  {
   "cell_type": "markdown",
   "id": "0d547a15-4862-4a2d-b55a-8602a0f140f6",
   "metadata": {},
   "source": [
    "The dataset consists of batting statistics of players in the Korean Baseball Organization. The data includes various performance metrics such as hits, runs, home runs, batting averages, etc."
   ]
  },
  {
   "cell_type": "markdown",
   "id": "27334d31-6301-4e93-be4a-5be0450ee39d",
   "metadata": {},
   "source": [
    "### 3.1 Number of Rows and Columns"
   ]
  },
  {
   "cell_type": "code",
   "execution_count": 15,
   "id": "bf963504-37cc-47e7-9417-7bf24e1b365f",
   "metadata": {},
   "outputs": [
    {
     "name": "stdout",
     "output_type": "stream",
     "text": [
      "(323, 27)\n"
     ]
    }
   ],
   "source": [
    "df = pd.read_csv(r\"C:\\Users\\Shaik Sakhlaih\\Downloads\\kbobattingdata.csv\")\n",
    "print(df.shape)"
   ]
  },
  {
   "cell_type": "markdown",
   "id": "c59a2a98-03d2-4341-a12c-336d4d2eae23",
   "metadata": {},
   "source": [
    "### 3.2 Column Names"
   ]
  },
  {
   "cell_type": "code",
   "execution_count": 16,
   "id": "f2e98699-6cbd-4505-a8aa-cd9248ad2d1f",
   "metadata": {},
   "outputs": [
    {
     "name": "stdout",
     "output_type": "stream",
     "text": [
      "Index(['year', 'team', 'average_batter_age', 'runs_per_game', 'games',\n",
      "       'plate_appearances', 'at_bats', 'runs', 'hits', 'doubles', 'triples',\n",
      "       'homeruns', 'RBI', 'stolen_bases', 'caught_stealing', 'bases_on_balls',\n",
      "       'strikeouts', 'batting_average', 'OBP', 'SLG', 'OPS', 'total_bases',\n",
      "       'GDP', 'HBP', 'sacrifice_hits', 'sacrifice_flies', 'IBB'],\n",
      "      dtype='object')\n"
     ]
    }
   ],
   "source": [
    "print(df.columns)"
   ]
  },
  {
   "cell_type": "markdown",
   "id": "b774007c-41df-49b9-982c-43860acb8106",
   "metadata": {},
   "source": [
    "## 4. Exploratory Data Analysis (EDA)"
   ]
  },
  {
   "cell_type": "markdown",
   "id": "d965cc8d-1590-4d6b-8c13-72e9bf737dff",
   "metadata": {},
   "source": [
    "### 4.1 Displaying First Few Rows"
   ]
  },
  {
   "cell_type": "code",
   "execution_count": 17,
   "id": "c0ad7e66-79f9-480d-8a58-0701edf08af1",
   "metadata": {},
   "outputs": [
    {
     "name": "stdout",
     "output_type": "stream",
     "text": [
      "   year           team  average_batter_age  runs_per_game  games  \\\n",
      "0  2021    SSG Landers                30.9           5.26    143   \n",
      "1  2021   Doosan Bears                29.0           5.13    143   \n",
      "2  2021   Lotte Giants                29.0           5.06    143   \n",
      "3  2021  Kiwoom Heroes                27.1           5.01    143   \n",
      "4  2021         KT Wiz                29.4           4.97    143   \n",
      "\n",
      "   plate_appearances  at_bats  runs  hits  doubles  ...  batting_average  \\\n",
      "0               5698     4864   752  1268      203  ...            0.261   \n",
      "1               5606     4867   733  1306      234  ...            0.268   \n",
      "2               5689     4978   723  1384      263  ...            0.278   \n",
      "3               5610     4839   716  1250      243  ...            0.258   \n",
      "4               5581     4773   711  1263      217  ...            0.265   \n",
      "\n",
      "     OBP    SLG    OPS  total_bases  GDP  HBP  sacrifice_hits  \\\n",
      "0  0.354  0.421  0.775         2049  104   93              55   \n",
      "1  0.350  0.391  0.741         1901  137   86              45   \n",
      "2  0.356  0.399  0.755         1985  114   53              37   \n",
      "3  0.347  0.376  0.722         1819   92   93              34   \n",
      "4  0.356  0.380  0.736         1814  105   58              68   \n",
      "\n",
      "   sacrifice_flies   IBB  \n",
      "0               52  23.0  \n",
      "1               52  12.0  \n",
      "2               45  18.0  \n",
      "3               55  17.0  \n",
      "4               43  27.0  \n",
      "\n",
      "[5 rows x 27 columns]\n"
     ]
    }
   ],
   "source": [
    "print(df.head())"
   ]
  },
  {
   "cell_type": "markdown",
   "id": "8e599c54-609c-4c1e-83e8-b76cf6eff446",
   "metadata": {},
   "source": [
    "### 4.2 Summary Statistics"
   ]
  },
  {
   "cell_type": "code",
   "execution_count": 18,
   "id": "d583ba54-e9d1-475d-b79c-f9a41db31255",
   "metadata": {},
   "outputs": [
    {
     "name": "stdout",
     "output_type": "stream",
     "text": [
      "              year  average_batter_age  runs_per_game       games  \\\n",
      "count   323.000000          323.000000      323.00000  323.000000   \n",
      "mean   2002.944272           27.785759        4.61161  128.142415   \n",
      "std      11.501957            1.335393        0.73503   12.996350   \n",
      "min    1982.000000           24.300000        2.71000   80.000000   \n",
      "25%    1993.000000           26.800000        4.00500  126.000000   \n",
      "50%    2003.000000           27.900000        4.59000  128.000000   \n",
      "75%    2013.000000           28.900000        5.15500  133.000000   \n",
      "max    2021.000000           30.900000        6.57000  144.000000   \n",
      "\n",
      "       plate_appearances      at_bats        runs         hits     doubles  \\\n",
      "count         323.000000   323.000000  323.000000   323.000000  323.000000   \n",
      "mean         4919.773994  4293.430341  595.095975  1146.535604  197.798762   \n",
      "std           585.491296   508.741014  132.387325   179.164714   39.628473   \n",
      "min          2953.000000  2628.000000  302.000000   637.000000  110.000000   \n",
      "25%          4658.000000  4074.500000  495.500000  1028.000000  170.500000   \n",
      "50%          4963.000000  4317.000000  590.000000  1143.000000  197.000000   \n",
      "75%          5267.500000  4569.000000  693.500000  1264.000000  222.000000   \n",
      "max          5870.000000  5176.000000  944.000000  1601.000000  304.000000   \n",
      "\n",
      "          triples  ...  batting_average         OBP         SLG         OPS  \\\n",
      "count  323.000000  ...       323.000000  323.000000  323.000000  323.000000   \n",
      "mean    21.139319  ...         0.266207    0.341700    0.395248    0.736882   \n",
      "std      8.154702  ...         0.015558    0.017005    0.038147    0.052787   \n",
      "min      3.000000  ...         0.219000    0.293000    0.301000    0.595000   \n",
      "25%     15.000000  ...         0.255000    0.329000    0.366500    0.698000   \n",
      "50%     20.000000  ...         0.267000    0.342000    0.391000    0.733000   \n",
      "75%     26.000000  ...         0.276500    0.355000    0.421500    0.774500   \n",
      "max     62.000000  ...         0.309000    0.382000    0.509000    0.891000   \n",
      "\n",
      "       total_bases         GDP         HBP  sacrifice_hits  sacrifice_flies  \\\n",
      "count   323.000000  323.000000  323.000000      323.000000       323.000000   \n",
      "mean   1706.359133   97.151703   66.027864       75.037152        37.368421   \n",
      "std     318.395835   18.809569   20.232864       25.553838        10.760400   \n",
      "min     914.000000   36.000000   24.000000       21.000000        11.000000   \n",
      "25%    1490.000000   85.000000   51.500000       56.000000        30.000000   \n",
      "50%    1673.000000   96.000000   65.000000       74.000000        37.000000   \n",
      "75%    1928.000000  111.000000   80.000000       91.000000        44.000000   \n",
      "max    2518.000000  148.000000  130.000000      153.000000        83.000000   \n",
      "\n",
      "              IBB  \n",
      "count  184.000000  \n",
      "mean    17.788043  \n",
      "std      6.200094  \n",
      "min      5.000000  \n",
      "25%     14.000000  \n",
      "50%     17.000000  \n",
      "75%     21.250000  \n",
      "max     39.000000  \n",
      "\n",
      "[8 rows x 26 columns]\n"
     ]
    }
   ],
   "source": [
    "print(df.describe())"
   ]
  },
  {
   "cell_type": "markdown",
   "id": "4b98eeba-5c7e-4919-80ff-eb530cdfcc1d",
   "metadata": {},
   "source": [
    "### 4.3 Checking Data Types"
   ]
  },
  {
   "cell_type": "code",
   "execution_count": 19,
   "id": "9ef21dda-abdd-434c-9bc6-eafffc5cc996",
   "metadata": {},
   "outputs": [
    {
     "name": "stdout",
     "output_type": "stream",
     "text": [
      "<class 'pandas.core.frame.DataFrame'>\n",
      "RangeIndex: 323 entries, 0 to 322\n",
      "Data columns (total 27 columns):\n",
      " #   Column              Non-Null Count  Dtype  \n",
      "---  ------              --------------  -----  \n",
      " 0   year                323 non-null    int64  \n",
      " 1   team                323 non-null    object \n",
      " 2   average_batter_age  323 non-null    float64\n",
      " 3   runs_per_game       323 non-null    float64\n",
      " 4   games               323 non-null    int64  \n",
      " 5   plate_appearances   323 non-null    int64  \n",
      " 6   at_bats             323 non-null    int64  \n",
      " 7   runs                323 non-null    int64  \n",
      " 8   hits                323 non-null    int64  \n",
      " 9   doubles             323 non-null    int64  \n",
      " 10  triples             323 non-null    int64  \n",
      " 11  homeruns            323 non-null    int64  \n",
      " 12  RBI                 323 non-null    int64  \n",
      " 13  stolen_bases        184 non-null    float64\n",
      " 14  caught_stealing     184 non-null    float64\n",
      " 15  bases_on_balls      323 non-null    int64  \n",
      " 16  strikeouts          323 non-null    int64  \n",
      " 17  batting_average     323 non-null    float64\n",
      " 18  OBP                 323 non-null    float64\n",
      " 19  SLG                 323 non-null    float64\n",
      " 20  OPS                 323 non-null    float64\n",
      " 21  total_bases         323 non-null    int64  \n",
      " 22  GDP                 323 non-null    int64  \n",
      " 23  HBP                 323 non-null    int64  \n",
      " 24  sacrifice_hits      323 non-null    int64  \n",
      " 25  sacrifice_flies     323 non-null    int64  \n",
      " 26  IBB                 184 non-null    float64\n",
      "dtypes: float64(9), int64(17), object(1)\n",
      "memory usage: 68.3+ KB\n",
      "None\n"
     ]
    }
   ],
   "source": [
    "print(df.info())"
   ]
  },
  {
   "cell_type": "markdown",
   "id": "750be301-9384-457c-8edc-3d8848ce93f5",
   "metadata": {},
   "source": [
    "## 5. Handling Missing Values"
   ]
  },
  {
   "cell_type": "markdown",
   "id": "bc569a91-e019-44e2-bc3f-592d0ab18c60",
   "metadata": {},
   "source": [
    "### 5.1 Checking for Null Values"
   ]
  },
  {
   "cell_type": "code",
   "execution_count": 21,
   "id": "53388b33-9ada-4f30-9fcf-d268072fe975",
   "metadata": {},
   "outputs": [
    {
     "name": "stdout",
     "output_type": "stream",
     "text": [
      "year                    0\n",
      "team                    0\n",
      "average_batter_age      0\n",
      "runs_per_game           0\n",
      "games                   0\n",
      "plate_appearances       0\n",
      "at_bats                 0\n",
      "runs                    0\n",
      "hits                    0\n",
      "doubles                 0\n",
      "triples                 0\n",
      "homeruns                0\n",
      "RBI                     0\n",
      "stolen_bases          139\n",
      "caught_stealing       139\n",
      "bases_on_balls          0\n",
      "strikeouts              0\n",
      "batting_average         0\n",
      "OBP                     0\n",
      "SLG                     0\n",
      "OPS                     0\n",
      "total_bases             0\n",
      "GDP                     0\n",
      "HBP                     0\n",
      "sacrifice_hits          0\n",
      "sacrifice_flies         0\n",
      "IBB                   139\n",
      "dtype: int64\n"
     ]
    }
   ],
   "source": [
    "print(df.isnull().sum())"
   ]
  },
  {
   "cell_type": "markdown",
   "id": "50a291e4-430e-4320-8005-4e3f624bad39",
   "metadata": {},
   "source": [
    "### 5.2 Replacing Missing Values"
   ]
  },
  {
   "cell_type": "markdown",
   "id": "75b361aa-6594-47be-83f4-806b35c74a29",
   "metadata": {},
   "source": [
    "Missing values can be handled by:\n",
    "\n",
    "- Filling numerical columns with their **mean/median**\n",
    "\n",
    "- Filling categorical columns with **mode**"
   ]
  },
  {
   "cell_type": "code",
   "execution_count": null,
   "id": "f59feab2-5f43-428f-be20-b3300b91b5f0",
   "metadata": {},
   "outputs": [],
   "source": [
    "df.fillna(df.mean(), inplace=True)\n",
    "df.fillna(df.mode().iloc[0], inplace=True)"
   ]
  },
  {
   "cell_type": "markdown",
   "id": "7525bb3b-0690-433c-9685-cc0b62ed21d4",
   "metadata": {},
   "source": [
    "## 6. Data Preprocessing"
   ]
  },
  {
   "cell_type": "markdown",
   "id": "b658cec0-cced-40c5-9cb4-6991e935f626",
   "metadata": {},
   "source": [
    "### 6.1 Standardizing the Data"
   ]
  },
  {
   "cell_type": "markdown",
   "id": "6ac544f1-1c0e-4385-80b8-983d926ae719",
   "metadata": {},
   "source": [
    "DBSCAN requires normalized data, so we use `StandardScaler`:"
   ]
  },
  {
   "cell_type": "code",
   "execution_count": null,
   "id": "5d3e4278-58f5-424c-a0f5-83b9ee6b32be",
   "metadata": {},
   "outputs": [],
   "source": [
    "scaler = StandardScaler()\n",
    "df_scaled = scaler.fit_transform(df.select_dtypes(include=[np.number]))"
   ]
  },
  {
   "cell_type": "markdown",
   "id": "283b66cc-fe84-428a-9dbf-33a88990c628",
   "metadata": {},
   "source": [
    "## 7. Model Building"
   ]
  },
  {
   "cell_type": "markdown",
   "id": "96eff8a2-c91c-41fa-8e64-0a7c51f87c31",
   "metadata": {},
   "source": [
    "We apply DBSCAN clustering to identify groups of similar players."
   ]
  },
  {
   "cell_type": "code",
   "execution_count": null,
   "id": "45e2f1d3-8d6b-42d4-a815-d64748872b13",
   "metadata": {},
   "outputs": [],
   "source": [
    "dbscan = DBSCAN(eps=0.5, min_samples=5)\n",
    "df['cluster'] = dbscan.fit_predict(df_scaled)"
   ]
  },
  {
   "cell_type": "markdown",
   "id": "9ae4ef87-f90e-42cb-a1a3-e27c37b1e287",
   "metadata": {},
   "source": [
    "### 7.1 Visualizing Clusters"
   ]
  },
  {
   "cell_type": "code",
   "execution_count": null,
   "id": "8e474789-0b1d-4683-b326-c76b8d658a2f",
   "metadata": {},
   "outputs": [],
   "source": [
    "plt.scatter(df_scaled[:, 0], df_scaled[:, 1], c=df['cluster'], cmap='viridis')\n",
    "plt.xlabel(\"Feature 1\")\n",
    "plt.ylabel(\"Feature 2\")\n",
    "plt.title(\"DBSCAN Clustering of KBO Batting Data\")\n",
    "plt.show()"
   ]
  },
  {
   "cell_type": "markdown",
   "id": "026e8507-69d1-40c3-ba3a-fe77f63a92c2",
   "metadata": {},
   "source": [
    "## 8. Model Evaluation"
   ]
  },
  {
   "cell_type": "markdown",
   "id": "0e22e1ad-04ba-459d-8e3a-7845b7d1a4b1",
   "metadata": {},
   "source": [
    "DBSCAN does not use traditional accuracy metrics but can be evaluated based on:\n",
    "\n",
    "- **Number of clusters formed**\n",
    "\n",
    "- **Noise points (label = -1)**"
   ]
  },
  {
   "cell_type": "code",
   "execution_count": null,
   "id": "65779d0a-7631-4c00-8aa6-4a786bc01346",
   "metadata": {},
   "outputs": [],
   "source": [
    "print(df['cluster'].value_counts())"
   ]
  },
  {
   "cell_type": "markdown",
   "id": "7094ca78-c897-4df3-b594-2c5930a93b44",
   "metadata": {},
   "source": [
    "## 9. Conclusion"
   ]
  },
  {
   "cell_type": "markdown",
   "id": "af1cc264-ab64-4f24-bdd0-ca2c4c625510",
   "metadata": {},
   "source": [
    "- The dataset was successfully preprocessed and analyzed.\n",
    "\n",
    "- Missing values were handled using appropriate techniques.\n",
    "\n",
    "- DBSCAN clustering was applied to group players based on their batting statistics.\n",
    "\n",
    "- The results showed distinct clusters and some noise points.\n",
    "\n",
    "- Future improvements could include hyperparameter tuning and feature selection.\n",
    "\n",
    "This report provides a detailed overview of the analysis and model-building process using DBSCAN on the KBO Batting dataset.\n",
    "\n"
   ]
  },
  {
   "cell_type": "code",
   "execution_count": null,
   "id": "c402859b-006f-4dd1-b374-61a9d16cdde3",
   "metadata": {},
   "outputs": [],
   "source": []
  }
 ],
 "metadata": {
  "kernelspec": {
   "display_name": "Python 3 (ipykernel)",
   "language": "python",
   "name": "python3"
  },
  "language_info": {
   "codemirror_mode": {
    "name": "ipython",
    "version": 3
   },
   "file_extension": ".py",
   "mimetype": "text/x-python",
   "name": "python",
   "nbconvert_exporter": "python",
   "pygments_lexer": "ipython3",
   "version": "3.12.4"
  }
 },
 "nbformat": 4,
 "nbformat_minor": 5
}
